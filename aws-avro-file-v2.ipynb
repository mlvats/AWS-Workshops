{
 "cells": [
  {
   "cell_type": "code",
   "execution_count": null,
   "metadata": {},
   "outputs": [],
   "source": [
    "!pip install fastavro"
   ]
  },
  {
   "cell_type": "code",
   "execution_count": 1,
   "metadata": {},
   "outputs": [],
   "source": [
    "from fastavro import writer, reader, parse_schema"
   ]
  },
  {
   "cell_type": "code",
   "execution_count": 2,
   "metadata": {},
   "outputs": [],
   "source": [
    "schema = {\n",
    "    'doc': 'A weather reading.',\n",
    "    'name': 'Weather',\n",
    "    'namespace': 'test',\n",
    "    'type': 'record',\n",
    "    'fields': [\n",
    "        {'name': 'station', 'type': 'string'},\n",
    "        {'name': 'time', 'type': 'long'},\n",
    "        {'name': 'temp', 'type': 'int'},\n",
    "    ],\n",
    "}\n",
    "parsed_schema = parse_schema(schema)\n",
    "\n",
    "# 'records' can be an iterable (including generator)\n",
    "records = [\n",
    "    {u'station': u'011990-99999', u'temp': 0, u'time': 1433269388},\n",
    "    {u'station': u'011990-99999', u'temp': 22, u'time': 1433270389},\n",
    "    {u'station': u'011990-99999', u'temp': -11, u'time': 1433273379},\n",
    "    {u'station': u'012650-99999', u'temp': 111, u'time': 1433275478},\n",
    "]"
   ]
  },
  {
   "cell_type": "code",
   "execution_count": null,
   "metadata": {},
   "outputs": [],
   "source": [
    "# Writing\n",
    "with open('weather.avro', 'wb') as out:\n",
    "    writer(out, parsed_schema, records)"
   ]
  },
  {
   "cell_type": "code",
   "execution_count": 3,
   "metadata": {},
   "outputs": [
    {
     "name": "stdout",
     "output_type": "stream",
     "text": [
      "{'station': '011990-99999', 'time': 1433269388, 'temp': 0}\n",
      "{'station': '011990-99999', 'time': 1433270389, 'temp': 22}\n",
      "{'station': '011990-99999', 'time': 1433273379, 'temp': -11}\n",
      "{'station': '012650-99999', 'time': 1433275478, 'temp': 111}\n"
     ]
    }
   ],
   "source": [
    "# Reading\n",
    "with open('weather.avro', 'rb') as fo:\n",
    "    for record in reader(fo):\n",
    "        print(record)"
   ]
  },
  {
   "cell_type": "code",
   "execution_count": 4,
   "metadata": {},
   "outputs": [],
   "source": [
    "import pandas as pd"
   ]
  },
  {
   "cell_type": "code",
   "execution_count": 5,
   "metadata": {},
   "outputs": [],
   "source": [
    "# Writie to a Pandas data frame\n",
    "with open('weather.avro', 'rb') as fo:\n",
    "    df = pd.DataFrame([record for record in reader(fo)])   "
   ]
  },
  {
   "cell_type": "code",
   "execution_count": 6,
   "metadata": {},
   "outputs": [
    {
     "data": {
      "text/html": [
       "<div>\n",
       "<style scoped>\n",
       "    .dataframe tbody tr th:only-of-type {\n",
       "        vertical-align: middle;\n",
       "    }\n",
       "\n",
       "    .dataframe tbody tr th {\n",
       "        vertical-align: top;\n",
       "    }\n",
       "\n",
       "    .dataframe thead th {\n",
       "        text-align: right;\n",
       "    }\n",
       "</style>\n",
       "<table border=\"1\" class=\"dataframe\">\n",
       "  <thead>\n",
       "    <tr style=\"text-align: right;\">\n",
       "      <th></th>\n",
       "      <th>station</th>\n",
       "      <th>time</th>\n",
       "      <th>temp</th>\n",
       "    </tr>\n",
       "  </thead>\n",
       "  <tbody>\n",
       "    <tr>\n",
       "      <th>0</th>\n",
       "      <td>011990-99999</td>\n",
       "      <td>1433269388</td>\n",
       "      <td>0</td>\n",
       "    </tr>\n",
       "    <tr>\n",
       "      <th>1</th>\n",
       "      <td>011990-99999</td>\n",
       "      <td>1433270389</td>\n",
       "      <td>22</td>\n",
       "    </tr>\n",
       "    <tr>\n",
       "      <th>2</th>\n",
       "      <td>011990-99999</td>\n",
       "      <td>1433273379</td>\n",
       "      <td>-11</td>\n",
       "    </tr>\n",
       "    <tr>\n",
       "      <th>3</th>\n",
       "      <td>012650-99999</td>\n",
       "      <td>1433275478</td>\n",
       "      <td>111</td>\n",
       "    </tr>\n",
       "  </tbody>\n",
       "</table>\n",
       "</div>"
      ],
      "text/plain": [
       "        station        time  temp\n",
       "0  011990-99999  1433269388     0\n",
       "1  011990-99999  1433270389    22\n",
       "2  011990-99999  1433273379   -11\n",
       "3  012650-99999  1433275478   111"
      ]
     },
     "execution_count": 6,
     "metadata": {},
     "output_type": "execute_result"
    }
   ],
   "source": [
    "df"
   ]
  },
  {
   "cell_type": "code",
   "execution_count": null,
   "metadata": {},
   "outputs": [],
   "source": [
    "df.columns"
   ]
  },
  {
   "cell_type": "markdown",
   "metadata": {},
   "source": [
    "# AWS Setup"
   ]
  },
  {
   "cell_type": "code",
   "execution_count": 7,
   "metadata": {},
   "outputs": [],
   "source": [
    "import boto3\n",
    "s3 = boto3.resource('s3')"
   ]
  },
  {
   "cell_type": "code",
   "execution_count": 8,
   "metadata": {},
   "outputs": [
    {
     "name": "stdout",
     "output_type": "stream",
     "text": [
      "moti-poc-buucker-xyz1\n"
     ]
    }
   ],
   "source": [
    "for bucket in s3.buckets.all():\n",
    "    print(bucket.name)"
   ]
  },
  {
   "cell_type": "code",
   "execution_count": null,
   "metadata": {},
   "outputs": [],
   "source": [
    "bucket_name = \"s3://moti-poc-buucker-xyz1/input/\"\n",
    "a = bucket_name+\"weather.avro\"\n",
    "a"
   ]
  },
  {
   "cell_type": "code",
   "execution_count": null,
   "metadata": {},
   "outputs": [],
   "source": [
    "# Read from AWS S3 bucket\n",
    "\n",
    "# Writie to a Pandas data frame\n",
    "bucket_name = f\"s3://moti-poc-buucker-xyz1/input/\"\n",
    "file_name = bucket_name+\"weather.avro\"\n",
    "print(file_name)\n",
    "with open(file_name, 'rb') as fo:\n",
    "    df_1 = pd.DataFrame([record for record in reader(fo)])   "
   ]
  },
  {
   "cell_type": "code",
   "execution_count": null,
   "metadata": {},
   "outputs": [],
   "source": [
    "df_1"
   ]
  },
  {
   "cell_type": "code",
   "execution_count": null,
   "metadata": {},
   "outputs": [],
   "source": [
    "import io"
   ]
  },
  {
   "cell_type": "code",
   "execution_count": null,
   "metadata": {},
   "outputs": [],
   "source": [
    "s3client = boto3.client('s3')\n",
    "bucket_name=\"security-price-12345\"\n",
    "s3_file = \"securitydata.json\"\n",
    "\n",
    "s3client.get_object(Bucket=bucket_name, Key=s3_file)"
   ]
  },
  {
   "cell_type": "code",
   "execution_count": null,
   "metadata": {},
   "outputs": [],
   "source": [
    "!aws s3api get-bucket-notification --bucket moti-poc-buucker-xyz\n",
    "s3://moti-poc-buucker-xyz/input/"
   ]
  },
  {
   "cell_type": "code",
   "execution_count": null,
   "metadata": {},
   "outputs": [],
   "source": [
    "s3client = boto3.client('s3')\n",
    "bucket_name=\"moti-poc-buucker-xyz\"\n",
    "s3_file = \"input/weather.avro\"\n",
    "\n",
    "obj = s3client.get_object(Bucket=bucket_name, Key=s3_file)\n",
    "obj"
   ]
  },
  {
   "cell_type": "code",
   "execution_count": null,
   "metadata": {},
   "outputs": [],
   "source": [
    "io.BytesIO(obj['Body'].read())"
   ]
  },
  {
   "cell_type": "code",
   "execution_count": null,
   "metadata": {},
   "outputs": [],
   "source": [
    "obj = s3client.get_object(Bucket=bucket_name, Key=s3_file)"
   ]
  },
  {
   "cell_type": "code",
   "execution_count": null,
   "metadata": {},
   "outputs": [],
   "source": [
    "a = io.BytesIO(obj['Body'].read())"
   ]
  },
  {
   "cell_type": "code",
   "execution_count": null,
   "metadata": {},
   "outputs": [],
   "source": [
    "s3client = boto3.client('s3')\n",
    "bucket_name=\"security-price-12345\"\n",
    "s3_file = \"securitydata.json\"\n",
    "\n",
    "obj = s3client.get_object(Bucket=bucket_name, Key=s3_file)\n",
    "obj"
   ]
  },
  {
   "cell_type": "code",
   "execution_count": null,
   "metadata": {},
   "outputs": [],
   "source": [
    "a = io.BytesIO(obj['Body'].read())\n",
    "a"
   ]
  },
  {
   "cell_type": "code",
   "execution_count": null,
   "metadata": {},
   "outputs": [],
   "source": [
    "s3 = boto3.resource('s3')\n",
    "bucket = s3.Bucket('security-price-12345')\n",
    "\n",
    "for obj in bucket.objects.all():\n",
    "    key = obj.key\n",
    "    body = obj.get()['Body'].read()"
   ]
  },
  {
   "cell_type": "code",
   "execution_count": null,
   "metadata": {},
   "outputs": [],
   "source": [
    "s3client = boto3.client('s3')\n",
    "bucket_name=\"security-price-12345\"\n",
    "s3_file = \"securitydata.json\"\n",
    "\n",
    "obj = s3client.get_object(Bucket=bucket_name, Key=s3_file)\n",
    "print(obj['Body'].read().decode('utf-8'))"
   ]
  },
  {
   "cell_type": "code",
   "execution_count": 10,
   "metadata": {},
   "outputs": [],
   "source": [
    "import boto3\n",
    "s3client = boto3.client('s3')\n",
    "bucket_name=\"moti-poc-buucker-xyz1\"\n",
    "s3_file = \"input/weather.avro\"\n",
    "\n",
    "avro_file = s3client.get_object(Bucket=bucket_name, Key=s3_file)['Body']"
   ]
  },
  {
   "cell_type": "code",
   "execution_count": 11,
   "metadata": {},
   "outputs": [],
   "source": [
    "import io\n",
    "avro_file_buffer = io.BytesIO(avro_file.read())"
   ]
  },
  {
   "cell_type": "code",
   "execution_count": 12,
   "metadata": {},
   "outputs": [],
   "source": [
    "#Configure Avro Reader\n",
    "reader = reader(avro_file_buffer)"
   ]
  },
  {
   "cell_type": "code",
   "execution_count": 13,
   "metadata": {},
   "outputs": [],
   "source": [
    "# Load records in memory\n",
    "records = [r for r in reader]"
   ]
  },
  {
   "cell_type": "code",
   "execution_count": 14,
   "metadata": {},
   "outputs": [
    {
     "data": {
      "text/html": [
       "<div>\n",
       "<style scoped>\n",
       "    .dataframe tbody tr th:only-of-type {\n",
       "        vertical-align: middle;\n",
       "    }\n",
       "\n",
       "    .dataframe tbody tr th {\n",
       "        vertical-align: top;\n",
       "    }\n",
       "\n",
       "    .dataframe thead th {\n",
       "        text-align: right;\n",
       "    }\n",
       "</style>\n",
       "<table border=\"1\" class=\"dataframe\">\n",
       "  <thead>\n",
       "    <tr style=\"text-align: right;\">\n",
       "      <th></th>\n",
       "      <th>station</th>\n",
       "      <th>time</th>\n",
       "      <th>temp</th>\n",
       "    </tr>\n",
       "  </thead>\n",
       "  <tbody>\n",
       "    <tr>\n",
       "      <th>0</th>\n",
       "      <td>011990-99999</td>\n",
       "      <td>1433269388</td>\n",
       "      <td>0</td>\n",
       "    </tr>\n",
       "    <tr>\n",
       "      <th>1</th>\n",
       "      <td>011990-99999</td>\n",
       "      <td>1433270389</td>\n",
       "      <td>22</td>\n",
       "    </tr>\n",
       "    <tr>\n",
       "      <th>2</th>\n",
       "      <td>011990-99999</td>\n",
       "      <td>1433273379</td>\n",
       "      <td>-11</td>\n",
       "    </tr>\n",
       "    <tr>\n",
       "      <th>3</th>\n",
       "      <td>012650-99999</td>\n",
       "      <td>1433275478</td>\n",
       "      <td>111</td>\n",
       "    </tr>\n",
       "  </tbody>\n",
       "</table>\n",
       "</div>"
      ],
      "text/plain": [
       "        station        time  temp\n",
       "0  011990-99999  1433269388     0\n",
       "1  011990-99999  1433270389    22\n",
       "2  011990-99999  1433273379   -11\n",
       "3  012650-99999  1433275478   111"
      ]
     },
     "execution_count": 14,
     "metadata": {},
     "output_type": "execute_result"
    }
   ],
   "source": [
    "import pandas as pd\n",
    "df = pd.DataFrame.from_records(records)\n",
    "df"
   ]
  },
  {
   "cell_type": "code",
   "execution_count": 20,
   "metadata": {},
   "outputs": [
    {
     "data": {
      "text/plain": [
       "'s3://moti-poc-buucker-xyz1/output/weather.csv'"
      ]
     },
     "execution_count": 20,
     "metadata": {},
     "output_type": "execute_result"
    }
   ],
   "source": [
    "bucket_name=\"moti-poc-buucker-xyz1\"\n",
    "s3_out_file = \"output/weather.csv\"\n",
    "s3_filename = \"s3://\"+bucket_name +\"/\" +s3_out_file\n",
    "s3_filename"
   ]
  },
  {
   "cell_type": "code",
   "execution_count": 27,
   "metadata": {},
   "outputs": [],
   "source": [
    "bucket = \"moti-poc-buucker-xyz1\"\n",
    "key = \"output/weather.csv\"\n",
    "\n",
    "# Create buffer\n",
    "csv_buffer =  io.StringIO()\n",
    "\n",
    "# Write dataframe to buffer\n",
    "df.to_csv(csv_buffer, sep=\"|\", index=False)\n",
    "\n",
    "# Create S3 object\n",
    "s3_client = boto3.client(\"s3\")\n",
    "\n",
    "# Write buffer to S3 object\n",
    "#s3_resource.Object()\n",
    "\n",
    " # write stream to S3\n",
    "obj = s3_client.put_object(Bucket=bucket, Key=key, Body=csv_buffer.getvalue())\n",
    "    "
   ]
  },
  {
   "cell_type": "code",
   "execution_count": null,
   "metadata": {},
   "outputs": [],
   "source": []
  }
 ],
 "metadata": {
  "kernelspec": {
   "display_name": "Python 3",
   "language": "python",
   "name": "python3"
  },
  "language_info": {
   "codemirror_mode": {
    "name": "ipython",
    "version": 3
   },
   "file_extension": ".py",
   "mimetype": "text/x-python",
   "name": "python",
   "nbconvert_exporter": "python",
   "pygments_lexer": "ipython3",
   "version": "3.7.6"
  }
 },
 "nbformat": 4,
 "nbformat_minor": 4
}
